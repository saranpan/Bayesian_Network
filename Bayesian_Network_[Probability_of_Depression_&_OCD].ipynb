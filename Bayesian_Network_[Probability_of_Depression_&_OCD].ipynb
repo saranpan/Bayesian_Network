{
  "nbformat": 4,
  "nbformat_minor": 0,
  "metadata": {
    "colab": {
      "name": "Bayesian Network [Probability of Depression & OCD]",
      "provenance": [],
      "authorship_tag": "ABX9TyNUAFgPCccRx4TIQth6J+yf",
      "include_colab_link": true
    },
    "kernelspec": {
      "name": "python3",
      "display_name": "Python 3"
    },
    "language_info": {
      "name": "python"
    }
  },
  "cells": [
    {
      "cell_type": "markdown",
      "metadata": {
        "id": "view-in-github",
        "colab_type": "text"
      },
      "source": [
        "<a href=\"https://colab.research.google.com/github/wallik2/Bayesian_Network/blob/main/Bayesian_Network_%5BProbability_of_Depression_%26_OCD%5D.ipynb\" target=\"_parent\"><img src=\"https://colab.research.google.com/assets/colab-badge.svg\" alt=\"Open In Colab\"/></a>"
      ]
    },
    {
      "cell_type": "code",
      "source": [
        "!pip install pomegranate"
      ],
      "metadata": {
        "colab": {
          "base_uri": "https://localhost:8080/"
        },
        "id": "89RQBo0uUqnq",
        "outputId": "07303432-d650-4e76-ff5d-4fab6a5c0507"
      },
      "execution_count": 3,
      "outputs": [
        {
          "output_type": "stream",
          "name": "stdout",
          "text": [
            "Collecting pomegranate\n",
            "  Downloading pomegranate-0.14.8.tar.gz (4.3 MB)\n",
            "\u001b[K     |████████████████████████████████| 4.3 MB 25.3 MB/s \n",
            "\u001b[?25h  Installing build dependencies ... \u001b[?25l\u001b[?25hdone\n",
            "  Getting requirements to build wheel ... \u001b[?25l\u001b[?25hdone\n",
            "    Preparing wheel metadata ... \u001b[?25l\u001b[?25hdone\n",
            "Requirement already satisfied: joblib>=0.9.0b4 in /usr/local/lib/python3.7/dist-packages (from pomegranate) (1.1.0)\n",
            "Requirement already satisfied: scipy>=0.17.0 in /usr/local/lib/python3.7/dist-packages (from pomegranate) (1.4.1)\n",
            "Requirement already satisfied: numpy>=1.20.0 in /usr/local/lib/python3.7/dist-packages (from pomegranate) (1.21.5)\n",
            "Requirement already satisfied: pyyaml in /usr/local/lib/python3.7/dist-packages (from pomegranate) (3.13)\n",
            "Requirement already satisfied: networkx>=2.4 in /usr/local/lib/python3.7/dist-packages (from pomegranate) (2.6.3)\n",
            "Building wheels for collected packages: pomegranate\n",
            "  Building wheel for pomegranate (PEP 517) ... \u001b[?25l\u001b[?25hdone\n",
            "  Created wheel for pomegranate: filename=pomegranate-0.14.8-cp37-cp37m-linux_x86_64.whl size=15006349 sha256=41a2eb821059c73b3601a2d0a1ffad5f53c91a5100b23526485bcb95abfe958c\n",
            "  Stored in directory: /root/.cache/pip/wheels/24/68/69/0eaab474ef1d65abedcd47de8a38ab21d221d329954d7edd24\n",
            "Successfully built pomegranate\n",
            "Installing collected packages: pomegranate\n",
            "Successfully installed pomegranate-0.14.8\n"
          ]
        }
      ]
    },
    {
      "cell_type": "code",
      "execution_count": 4,
      "metadata": {
        "id": "G0tUUy7qTdHW"
      },
      "outputs": [],
      "source": [
        "from pomegranate import *"
      ]
    },
    {
      "cell_type": "code",
      "source": [
        "depression = DiscreteDistribution({'True':0.067, 'False':0.933})\n",
        "#ocd = DiscreteDistribution({'True':0.5, 'False':0.5})\n",
        "\n",
        "\n",
        "panic_attack_D = ConditionalProbabilityTable(\n",
        "                [[ 'True', 'True', 0.6 ],\n",
        "                  [ 'True', 'False', 0.08 ],\n",
        "                  [ 'False', 'True', 0.4 ],\n",
        "                  [ 'False', 'False', 0.92 ]], [depression])\n",
        "\n",
        "intrusive_thought_D = ConditionalProbabilityTable(\n",
        "                    [[ 'True', 'True', 0.75 ],\n",
        "                      [ 'True', 'False', 0.08 ],\n",
        "                      [ 'False', 'True', 0.25 ],\n",
        "                      [ 'False', 'False', 0.92 ]], [depression])\n",
        "\n",
        "worthless_D = ConditionalProbabilityTable(\n",
        "                [[ 'True', 'True', 0.99 ],\n",
        "                  [ 'True', 'False', 0.005 ],\n",
        "                  [ 'False', 'True', 0.01 ],\n",
        "                  [ 'False', 'False', 0.995 ]], [depression])"
      ],
      "metadata": {
        "id": "ZZV0HYIsbcRp"
      },
      "execution_count": 31,
      "outputs": []
    },
    {
      "cell_type": "code",
      "source": [
        ""
      ],
      "metadata": {
        "id": "KqwhGBn4n2o_"
      },
      "execution_count": null,
      "outputs": []
    },
    {
      "cell_type": "code",
      "source": [
        "ocd = DiscreteDistribution({'True':0.5, 'False':0.5})\n",
        "\n",
        "panic_attack_O = ConditionalProbabilityTable(\n",
        "                [[ 'True', 'True', 0.75 ],\n",
        "                  [ 'True', 'False', 0.01 ],\n",
        "                  [ 'False', 'True', 0.25 ],\n",
        "                  [ 'False', 'False', 0.99 ]], [ocd])\n",
        "\n",
        "intrusive_thought_O = ConditionalProbabilityTable(\n",
        "                    [[ 'True', 'True', 0.95 ],\n",
        "                      [ 'True', 'False', 0.02 ],\n",
        "                      [ 'False', 'True', 0.05 ],\n",
        "                      [ 'False', 'False', 0.98 ]], [ocd])\n",
        "\n",
        "worthless_O = ConditionalProbabilityTable(\n",
        "                [[ 'True', 'True', 0.8 ],\n",
        "                  [ 'True', 'False', 0.1 ],\n",
        "                  [ 'False', 'True', 0.2 ],\n",
        "                  [ 'False', 'False', 0.9 ]], [ocd])"
      ],
      "metadata": {
        "id": "eRRq9cSon3Iw"
      },
      "execution_count": 32,
      "outputs": []
    },
    {
      "cell_type": "code",
      "source": [
        "d0 = State( depression, name= \"depression\")\n",
        "d1 = State( panic_attack_D, name= \"panic attack\")\n",
        "d2 = State( intrusive_thought_D, name= \"intrusive thought\")\n",
        "d3 = State( worthless_D, name= \"feel worthless\")\n",
        "\n",
        "network_depression = BayesianNetwork( \"Depression Mental Diagnosis\" )\n",
        "\n",
        "network_depression.add_nodes(d0, d1, d2, d3)\n",
        "network_depression.add_edge(d0, d1)\n",
        "network_depression.add_edge(d0, d2)\n",
        "network_depression.add_edge(d0, d3)\n",
        "\n",
        "network_depression.bake()"
      ],
      "metadata": {
        "id": "xlN4vsN6cCiE"
      },
      "execution_count": 33,
      "outputs": []
    },
    {
      "cell_type": "code",
      "source": [
        "o0 = State( ocd, name= \"ocd\")\n",
        "o1 = State( panic_attack_O, name= \"panic attack\")\n",
        "o2 = State( intrusive_thought_O, name= \"intrusive thought\")\n",
        "o3 = State( worthless_O, name= \"feel worthless\")\n",
        "\n",
        "network_ocd = BayesianNetwork( \"OCD Mental Diagnosis\" )\n",
        "\n",
        "network_ocd.add_nodes(o0, o1, o2, o3)\n",
        "network_ocd.add_edge(o0, o1)\n",
        "network_ocd.add_edge(o0, o2)\n",
        "network_ocd.add_edge(o0, o3)\n",
        "\n",
        "network_ocd.bake()"
      ],
      "metadata": {
        "id": "w7GckUohoefb"
      },
      "execution_count": 37,
      "outputs": []
    },
    {
      "cell_type": "code",
      "source": [
        "observations = { 'panic attack':'True','intrusive thought':'False','feel worthless':'True'}\n",
        "beliefs = network_depression.predict_proba(observations)\n",
        "\n",
        "\n",
        "for state, belief in zip( network.states,beliefs):\n",
        "  print(state.name, belief)"
      ],
      "metadata": {
        "colab": {
          "base_uri": "https://localhost:8080/"
        },
        "id": "s6xDQjAwcOoM",
        "outputId": "b1f1de1c-6135-43fd-e08a-f1284b94617a"
      },
      "execution_count": 55,
      "outputs": [
        {
          "output_type": "stream",
          "name": "stdout",
          "text": [
            "depression {\n",
            "    \"class\" : \"Distribution\",\n",
            "    \"dtype\" : \"str\",\n",
            "    \"name\" : \"DiscreteDistribution\",\n",
            "    \"parameters\" : [\n",
            "        {\n",
            "            \"True\" : 0.48114028724793556,\n",
            "            \"False\" : 0.5188597127520644\n",
            "        }\n",
            "    ],\n",
            "    \"frozen\" : false\n",
            "}\n",
            "panic attack True\n",
            "intrusive thought False\n",
            "feel worthless True\n"
          ]
        }
      ]
    },
    {
      "cell_type": "markdown",
      "source": [
        "---"
      ],
      "metadata": {
        "id": "Ugf_v2y_sL3I"
      }
    },
    {
      "cell_type": "code",
      "source": [
        "def mental_patient_interview():\n",
        "    symptoms_list = ['panic attack','intrusive thought',\"feel worthless\"]\n",
        "    observations = {}\n",
        "    for symptom in symptoms_list:\n",
        "        ans = input('Do you have a ' + symptom + ': ')\n",
        "        if ans == 'yes':\n",
        "            observations[symptom]= 'True'\n",
        "        elif ans == 'no':\n",
        "            observations[symptom]= 'False'\n",
        "            \n",
        "    #print(observations)\n",
        "    beliefs_depression = network_depression.predict_proba(observations)\n",
        "    beliefs_ocd = network_ocd.predict_proba(observations)\n",
        "    print('\\n\\n')\n",
        "  \n",
        "    for state, belief in zip(network_depression.states, beliefs_depression):\n",
        "        if not isinstance(belief, str) :\n",
        "            print( state.name,': probability = ',belief.probability('True'))\n",
        "    \n",
        "    for state, belief in zip(network_ocd.states, beliefs_ocd):\n",
        "        if not isinstance(belief, str) :\n",
        "            print( state.name,': probability = ',belief.probability('True'))\n"
      ],
      "metadata": {
        "id": "U4oXGLhkdpmo"
      },
      "execution_count": 53,
      "outputs": []
    },
    {
      "cell_type": "code",
      "source": [
        "mental_patient_interview()"
      ],
      "metadata": {
        "id": "XEGne3FefJWL",
        "colab": {
          "base_uri": "https://localhost:8080/"
        },
        "outputId": "042acf55-10bd-4f32-9d66-290c49ed5e4f"
      },
      "execution_count": 54,
      "outputs": [
        {
          "output_type": "stream",
          "name": "stdout",
          "text": [
            "Do you have a panic attack: yes\n",
            "Do you have a intrusive thought: no\n",
            "Do you have a feel worthless: yes\n",
            "\n",
            "\n",
            "\n",
            "depression : probability =  0.48114028724793556\n",
            "ocd : probability =  0.19672131147541183\n"
          ]
        }
      ]
    }
  ]
}